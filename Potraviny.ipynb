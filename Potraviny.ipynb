{
 "cells": [
  {
   "cell_type": "code",
   "execution_count": 33,
   "metadata": {},
   "outputs": [],
   "source": [
    "from pulp import LpMaximize, LpMinimize, LpInteger, LpProblem, LpVariable, lpDot, LpStatus, lpSum"
   ]
  },
  {
   "cell_type": "code",
   "execution_count": 49,
   "metadata": {},
   "outputs": [],
   "source": [
    "names = ['mleko','jablko','ryze', 'banany','chleba', 'maslo','gouda','kureci','vajicka','pivo','burt']\n",
    "upbound = {\n",
    "            'mleko':10,\n",
    "            'jablko':10,\n",
    "            'ryze':10,\n",
    "            'banany':10,\n",
    "            'chleba':10,\n",
    "            'maslo':10,\n",
    "            'gouda':10,\n",
    "            'kureci':10,\n",
    "            'vajicka':10,\n",
    "            'pivo':10,\n",
    "            'burt':10\n",
    "            }\n",
    "\n",
    "energie_vec = [260,218,1447,394,244,3134,1337,442,632,175,1313]\n",
    "bilkoviny_vec = [3,0,3,1.2,8,0.7,25,23,13,0.5,10]\n",
    "sacharidy_vec = [4,17,28,25,45,0.8,0.5,0,1.2,3,2.8]\n",
    "tuky_vec = [3.5,0,0.2,30,3.2,18,27,31,10,0.22,30]\n",
    "c_vec = [3,5,4,4,4.4,24,17,12,10,8,10]"
   ]
  },
  {
   "cell_type": "code",
   "execution_count": 50,
   "metadata": {},
   "outputs": [],
   "source": [
    "model = LpProblem(name=\"jidelnicek\",sense=LpMinimize)\n",
    "vars = [LpVariable(name=i,lowBound=0,upBound=upbound[i]) for i in names]"
   ]
  },
  {
   "cell_type": "code",
   "execution_count": 51,
   "metadata": {},
   "outputs": [],
   "source": [
    "model += lpDot(c_vec,vars)\n",
    "model += (lpDot(energie_vec,vars)>=8000, 'dolni mez energie')\n",
    "model += (lpDot(energie_vec,vars)<=12000, 'horni mez energie')\n",
    "model += (lpDot(bilkoviny_vec,vars)>=72, 'dolni mez bilkovin')\n",
    "model += (lpDot(bilkoviny_vec,vars)<=140, 'horni mez bilkovin')\n",
    "model += (lpDot(sacharidy_vec,vars)>=200, 'dolni mez sacharidu')\n",
    "model += (lpDot(sacharidy_vec,vars)<=400, 'horni mez sacharidu')\n",
    "model += (lpDot(tuky_vec,vars)>=50, 'dolni mez tuku')\n",
    "model += (lpDot(tuky_vec,vars)<=80, 'horni mez tuku')"
   ]
  },
  {
   "cell_type": "code",
   "execution_count": 52,
   "metadata": {},
   "outputs": [
    {
     "name": "stdout",
     "output_type": "stream",
     "text": [
      "Hotovo 1\n",
      "Závěr: 1, Optimal\n",
      "Optimum: 49.26496104\n",
      "banany: 0.0\n",
      "burt: 0.0\n",
      "chleba: 1.5437016\n",
      "gouda: 0.0\n",
      "jablko: 0.0\n",
      "kureci: 1.9854201\n",
      "maslo: 0.0\n",
      "mleko: 0.0\n",
      "pivo: 0.0\n",
      "ryze: 4.6619082\n",
      "vajicka: 0.0\n",
      "dolni_mez_energie: 3.999999967163603e-05\n",
      "horni_mez_energie: -3999.9999600000006\n",
      "dolni_mez_bilkovin: -2.9999999640040187e-07\n",
      "horni_mez_bilkovin: -68.0000003\n",
      "dolni_mez_sacharidu: 1.6000000044869012e-06\n",
      "horni_mez_sacharidu: -199.99999840000004\n",
      "dolni_mez_tuku: 17.420249860000006\n",
      "horni_mez_tuku: -12.579750139999994\n"
     ]
    }
   ],
   "source": [
    "result = model.solve()\n",
    "print(f\"Hotovo {result}\")\n",
    "print(f\"Závěr: {model.status}, {LpStatus[model.status]}\")\n",
    "print(f\"Optimum: {model.objective.value()}\")\n",
    "for var in model.variables():\n",
    "  print(f\"{var.name}: {var.value()}\")\n",
    "for name, constraint in model.constraints.items():\n",
    "  print(f\"{name}: {constraint.value()}\")"
   ]
  },
  {
   "cell_type": "code",
   "execution_count": 58,
   "metadata": {},
   "outputs": [
    {
     "name": "stdout",
     "output_type": "stream",
     "text": [
      "Omezení:dolni_mez_energie\tDuální proměnná:0.0017207705\n",
      "Omezení:horni_mez_energie\tDuální proměnná:0.0\n",
      "Omezení:dolni_mez_bilkovin\tDuální proměnná:0.48867041\n",
      "Omezení:horni_mez_bilkovin\tDuální proměnná:0.0\n",
      "Omezení:dolni_mez_sacharidu\tDuální proměnná:0.0015726381\n",
      "Omezení:horni_mez_sacharidu\tDuální proměnná:0.0\n",
      "Omezení:dolni_mez_tuku\tDuální proměnná:0.0\n",
      "Omezení:horni_mez_tuku\tDuální proměnná:0.0\n"
     ]
    }
   ],
   "source": [
    "for name, constraint in list(model.constraints.items()):\n",
    "  print(f\"Omezení:{name}\\tDuální proměnná:{constraint.pi}\")"
   ]
  },
  {
   "cell_type": "code",
   "execution_count": 15,
   "metadata": {},
   "outputs": [],
   "source": [
    "import matplotlib.pyplot as plt\n",
    "import numpy as np"
   ]
  },
  {
   "cell_type": "code",
   "execution_count": 17,
   "metadata": {},
   "outputs": [],
   "source": [
    "def YF(x):\n",
    "    return np.array(x**2+x-1)"
   ]
  },
  {
   "cell_type": "code",
   "execution_count": 41,
   "metadata": {},
   "outputs": [
    {
     "data": {
      "image/png": "[encoded data removed]",
      "text/plain": [
       "<Figure size 640x480 with 1 Axes>"
      ]
     },
     "metadata": {},
     "output_type": "display_data"
    }
   ],
   "source": [
    "x = np.array(range(0,6))\n",
    "y = [-1.5,2.2,10,19.5,33,56]\n",
    "plt.scatter(x,y)\n",
    "plt.show()\n",
    "\n",
    "model = LpProblem(\"Prolozeni\", LpMinimize)\n",
    "eps = [LpVariable(name=f'epsilon{i}', lowBound=0) for i in range(len(x))]\n",
    "betas = [LpVariable(name=f'beta{i}') for i in [0,1,2]]\n",
    "model += lpSum(eps)\n",
    "for i in range(len(x)):\n",
    "    model += ((y[i]-(betas[0]+betas[1]*x[i]+betas[2]*x[i]**2)) <= eps[i], f\"horni omezeni{i}\")\n",
    "    model += ((y[i]-(betas[0]+betas[1]*x[i]+betas[2]*x[i]**2)) >= -eps[i], f\"dolni omezeni{i}\")"
   ]
  },
  {
   "cell_type": "code",
   "execution_count": 42,
   "metadata": {},
   "outputs": [
    {
     "name": "stdout",
     "output_type": "stream",
     "text": [
      "Hotovo 1\n",
      "Závěr: 1, Optimal\n",
      "Optimum: 5.7\n",
      "beta0: -1.5\n",
      "beta1: 1.75\n",
      "beta2: 1.95\n",
      "epsilon0: 0.0\n",
      "epsilon1: 0.0\n",
      "epsilon2: 0.2\n",
      "epsilon3: 1.8\n",
      "epsilon4: 3.7\n",
      "epsilon5: 0.0\n",
      "horni_omezeni0: 0.0\n",
      "dolni_omezeni0: 0.0\n",
      "horni_omezeni1: 2.220446049250313e-16\n",
      "dolni_omezeni1: 2.220446049250313e-16\n",
      "horni_omezeni2: 1.6653345369377348e-16\n",
      "dolni_omezeni2: 0.4000000000000002\n",
      "horni_omezeni3: -3.6000000000000005\n",
      "dolni_omezeni3: -6.661338147750939e-16\n",
      "horni_omezeni4: -7.3999999999999995\n",
      "dolni_omezeni4: 8.881784197001252e-16\n",
      "horni_omezeni5: 0.0\n",
      "dolni_omezeni5: 0.0\n"
     ]
    }
   ],
   "source": [
    "result = model.solve()\n",
    "print(f\"Hotovo {result}\")\n",
    "print(f\"Závěr: {model.status}, {LpStatus[model.status]}\")\n",
    "print(f\"Optimum: {model.objective.value()}\")\n",
    "for var in model.variables():\n",
    "  print(f\"{var.name}: {var.value()}\")\n",
    "for name, constraint in model.constraints.items():\n",
    "  print(f\"{name}: {constraint.value()}\")"
   ]
  },
  {
   "cell_type": "code",
   "execution_count": null,
   "metadata": {},
   "outputs": [],
   "source": []
  }
 ],
 "metadata": {
  "kernelspec": {
   "display_name": "Python 3",
   "language": "python",
   "name": "python3"
  },
  "language_info": {
   "codemirror_mode": {
    "name": "ipython",
    "version": 3
   },
   "file_extension": ".py",
   "mimetype": "text/x-python",
   "name": "python",
   "nbconvert_exporter": "python",
   "pygments_lexer": "ipython3",
   "version": "3.11.5"
  }
 },
 "nbformat": 4,
 "nbformat_minor": 2
}
