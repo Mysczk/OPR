{
 "cells": [
  {
   "cell_type": "code",
   "execution_count": 1,
   "metadata": {},
   "outputs": [],
   "source": [
    "from pulp import *"
   ]
  },
  {
   "cell_type": "code",
   "execution_count": 2,
   "metadata": {},
   "outputs": [
    {
     "name": "stdout",
     "output_type": "stream",
     "text": [
      "myProblem:\n",
      "MAXIMIZE\n",
      "3*x + 2*y + 0\n",
      "SUBJECT TO\n",
      "_C1: x - y + z = 1\n",
      "\n",
      "_C2: x + 2 y <= 14\n",
      "\n",
      "_C3: 4 x + y <= 20\n",
      "\n",
      "VARIABLES\n",
      "0 <= x Integer\n",
      "0 <= y Integer\n",
      "z Continuous\n",
      "\n"
     ]
    }
   ],
   "source": [
    "x = LpVariable(\"x\", lowBound=0,cat=\"Integer\")\n",
    "y = LpVariable(\"y\", lowBound=0,cat=\"Integer\")\n",
    "z = LpVariable(\"z\", lowBound=0)\n",
    "\n",
    "problem = LpProblem(\"myProblem\", LpMaximize)\n",
    "\n",
    "problem += 3*x + 2*y, \"myObjective\"\n",
    "\n",
    "problem += x - y + z == 1\n",
    "problem += x + 2*y <= 14\n",
    "problem += 4*x + y <= 20\n",
    "\n",
    "print(problem)"
   ]
  },
  {
   "cell_type": "code",
   "execution_count": 3,
   "metadata": {},
   "outputs": [
    {
     "name": "stdout",
     "output_type": "stream",
     "text": [
      "myProblem:\n",
      "MINIMIZE\n",
      "1*x1 + 1*x2 + 0\n",
      "SUBJECT TO\n",
      "_C1: 2 x1 + 3 x2 >= 6\n",
      "\n",
      "_C2: - x1 + 2 x2 <= 2\n",
      "\n",
      "_C3: 5 x1 + x2 >= 10\n",
      "\n",
      "VARIABLES\n",
      "x1 free Continuous\n",
      "x2 free Continuous\n",
      "\n",
      "Optimal\n",
      "---\n",
      "SOLUTION: \n",
      "x1 = 1.8461538\n",
      "x2 = 0.76923077\n",
      "---\n",
      "OBJECTIVE VALUE: 2.61538457\n",
      "---\n"
     ]
    }
   ],
   "source": [
    "x1 = LpVariable(\"x1\")\n",
    "x2 = LpVariable(\"x2\")\n",
    "\n",
    "problem = LpProblem(\"myProblem\", LpMinimize)\n",
    "\n",
    "problem += x1+x2, \"myObjective\"\n",
    "\n",
    "problem += 2*x1+3*x2 >= 6\n",
    "problem += -x1+2*x2 <= 2\n",
    "problem += 5*x1 +x2 >= 10\n",
    "\n",
    "print(problem)\n",
    "\n",
    "status = problem.solve()\n",
    "print(LpStatus[status])\n",
    "print(\"---\")\n",
    "print(\"SOLUTION: \")\n",
    "for var in problem.variables():\n",
    "    print(f\"{var.name} = {var.varValue}\")\n",
    "print(\"---\")\n",
    "print(f\"OBJECTIVE VALUE: {problem.objective.value()}\")\n",
    "print(\"---\")"
   ]
  },
  {
   "cell_type": "code",
   "execution_count": 4,
   "metadata": {},
   "outputs": [
    {
     "name": "stdout",
     "output_type": "stream",
     "text": [
      "myProblem:\n",
      "MAXIMIZE\n",
      "10*x1 + 5*x2 + 0\n",
      "SUBJECT TO\n",
      "_C1: 5 x1 + x2 <= 85\n",
      "\n",
      "_C2: x1 + 10 x2 <= 300\n",
      "\n",
      "_C3: 4 x1 + 6 x2 <= 120\n",
      "\n",
      "VARIABLES\n",
      "0 <= x1 Integer\n",
      "0 <= x2 Integer\n",
      "\n",
      "Optimal\n",
      "---\n",
      "SOLUTION: \n",
      "x1 = 15.0\n",
      "x2 = 10.0\n",
      "---\n",
      "OBJECTIVE VALUE: 200.0\n",
      "---\n"
     ]
    }
   ],
   "source": [
    "x1 = LpVariable(\"x1\", lowBound=0,cat=\"Integer\")\n",
    "x2 = LpVariable(\"x2\", lowBound=0,cat=\"Integer\")\n",
    "\n",
    "problem = LpProblem(\"myProblem\", LpMaximize)\n",
    "\n",
    "problem += 10*x1+5*x2, \"myObjective\"\n",
    "\n",
    "problem += 5*x1 + x2 <= 85\n",
    "problem += x1 + 10*x2 <= 300\n",
    "problem += 4*x1 + 6*x2 <= 120\n",
    "\n",
    "print(problem)\n",
    "\n",
    "status = problem.solve()\n",
    "print(LpStatus[status])\n",
    "print(\"---\")\n",
    "print(\"SOLUTION: \")\n",
    "for var in problem.variables():\n",
    "    print(f\"{var.name} = {var.varValue}\")\n",
    "print(\"---\")\n",
    "print(f\"OBJECTIVE VALUE: {problem.objective.value()}\")\n",
    "print(\"---\")"
   ]
  },
  {
   "cell_type": "code",
   "execution_count": 5,
   "metadata": {},
   "outputs": [
    {
     "name": "stdout",
     "output_type": "stream",
     "text": [
      "myProblem:\n",
      "MAXIMIZE\n",
      "3*x1 + 2*x2 + 0\n",
      "SUBJECT TO\n",
      "_C1: 2 x1 + x2 <= 2\n",
      "\n",
      "_C2: 3 x1 + 4 x2 >= 12\n",
      "\n",
      "VARIABLES\n",
      "0 <= x1 Integer\n",
      "0 <= x2 Integer\n",
      "\n",
      "---\n",
      "///Infeasible///\n"
     ]
    }
   ],
   "source": [
    "x1 = LpVariable(\"x1\",lowBound=0,cat=\"Integer\")\n",
    "x2 = LpVariable(\"x2\",lowBound=0,cat=\"Integer\")\n",
    "\n",
    "problem = LpProblem(\"myProblem\", LpMaximize)\n",
    "\n",
    "problem += 3*x1+2*x2, \"myObjective\"\n",
    "\n",
    "problem += 2*x1+x2 <= 2\n",
    "problem += 3*x1+4*x2 >= 12\n",
    "\n",
    "print(problem)\n",
    "\n",
    "status = problem.solve()\n",
    "print(\"---\")\n",
    "if(status == -1):\n",
    "    print(f\"///{LpStatus[status]}///\")\n",
    "else:\n",
    "    print(f\"///{LpStatus[status]}///\")\n",
    "    print(\"SOLUTION: \")\n",
    "    for var in problem.variables():\n",
    "        print(f\"{var.name} = {var.varValue}\")\n",
    "    print(\"---\")\n",
    "    print(f\"OBJECTIVE VALUE: {problem.objective.value()}\")\n",
    "    print(\"---\")"
   ]
  },
  {
   "cell_type": "code",
   "execution_count": 6,
   "metadata": {},
   "outputs": [
    {
     "name": "stdout",
     "output_type": "stream",
     "text": [
      "myProblem:\n",
      "MAXIMIZE\n",
      "2*x1 + 1*x2 + 0\n",
      "SUBJECT TO\n",
      "_C1: x1 - x2 <= 10\n",
      "\n",
      "_C2: 2 x1 - x2 <= 40\n",
      "\n",
      "VARIABLES\n",
      "0 <= x1 Integer\n",
      "0 <= x2 Integer\n",
      "\n",
      "-2\n",
      "---\n",
      "///Unbounded///\n",
      "---\n",
      "SOLUTION: \n",
      "inf\n",
      "---\n"
     ]
    }
   ],
   "source": [
    "x1 = LpVariable(\"x1\",lowBound=0,cat=\"Integer\")\n",
    "x2 = LpVariable(\"x2\",lowBound=0,cat=\"Integer\")\n",
    "\n",
    "problem = LpProblem(\"myProblem\", LpMaximize)\n",
    "\n",
    "problem += 2*x1+x2, \"myObjective\"\n",
    "\n",
    "problem += x1-x2 <= 10\n",
    "problem += 2*x1-x2 <= 40\n",
    "\n",
    "print(problem)\n",
    "\n",
    "status = problem.solve()\n",
    "print(status)\n",
    "print(\"---\")\n",
    "if(status == -1):\n",
    "    print(f\"///{LpStatus[status]}///\")\n",
    "elif(status == -2):\n",
    "    print(f\"///{LpStatus[status]}///\")\n",
    "    print(\"---\")\n",
    "    print(\"SOLUTION: \")\n",
    "    print(\"inf\")\n",
    "else:\n",
    "    print(f\"///{LpStatus[status]}///\")\n",
    "    print(\"---\")\n",
    "    print(\"SOLUTION: \")\n",
    "    for var in problem.variables():\n",
    "        print(f\"{var.name} = {var.varValue}\")\n",
    "    print(\"---\")\n",
    "    print(f\"OBJECTIVE VALUE: {problem.objective.value()}\")\n",
    "print(\"---\")"
   ]
  },
  {
   "cell_type": "code",
   "execution_count": 7,
   "metadata": {},
   "outputs": [
    {
     "name": "stdout",
     "output_type": "stream",
     "text": [
      "myProblem:\n",
      "MAXIMIZE\n",
      "2*x1 + 4*x2 + 0\n",
      "SUBJECT TO\n",
      "_C1: x1 + 2 x2 <= 5\n",
      "\n",
      "_C2: x1 + x2 <= 4\n",
      "\n",
      "VARIABLES\n",
      "x1 Continuous\n",
      "x2 Continuous\n",
      "\n",
      "1\n",
      "---\n",
      "///Optimal///\n",
      "---\n",
      "SOLUTION: \n",
      "x1 = 0.0\n",
      "x2 = 2.5\n",
      "---\n",
      "OBJECTIVE VALUE: 10.0\n",
      "---\n"
     ]
    }
   ],
   "source": [
    "x1 = LpVariable(\"x1\",lowBound=0)\n",
    "x2 = LpVariable(\"x2\",lowBound=0)\n",
    "\n",
    "problem = LpProblem(\"myProblem\", LpMaximize)\n",
    "\n",
    "problem += 2*x1+4*x2, \"myObjective\"\n",
    "\n",
    "problem += x1+2*x2 <= 5\n",
    "problem += x1+x2 <= 4\n",
    "\n",
    "print(problem)\n",
    "\n",
    "status = problem.solve()\n",
    "print(status)\n",
    "print(\"---\")\n",
    "if(status == -1):\n",
    "    print(f\"///{LpStatus[status]}///\")\n",
    "elif(status == -2):\n",
    "    print(f\"///{LpStatus[status]}///\")\n",
    "    print(\"---\")\n",
    "    print(\"SOLUTION: \")\n",
    "    print(\"inf\")\n",
    "else:\n",
    "    print(f\"///{LpStatus[status]}///\")\n",
    "    print(\"---\")\n",
    "    print(\"SOLUTION: \")\n",
    "    for var in problem.variables():\n",
    "        print(f\"{var.name} = {var.varValue}\")\n",
    "    print(\"---\")\n",
    "    print(f\"OBJECTIVE VALUE: {problem.objective.value()}\")\n",
    "print(\"---\")"
   ]
  },
  {
   "cell_type": "code",
   "execution_count": null,
   "metadata": {},
   "outputs": [],
   "source": []
  }
 ],
 "metadata": {
  "kernelspec": {
   "display_name": "Python 3",
   "language": "python",
   "name": "python3"
  },
  "language_info": {
   "codemirror_mode": {
    "name": "ipython",
    "version": 3
   },
   "file_extension": ".py",
   "mimetype": "text/x-python",
   "name": "python",
   "nbconvert_exporter": "python",
   "pygments_lexer": "ipython3",
   "version": "3.11.5"
  }
 },
 "nbformat": 4,
 "nbformat_minor": 2
}
